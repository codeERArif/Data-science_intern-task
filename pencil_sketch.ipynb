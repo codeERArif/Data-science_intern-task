{
  "nbformat": 4,
  "nbformat_minor": 0,
  "metadata": {
    "colab": {
      "provenance": []
    },
    "kernelspec": {
      "name": "python3",
      "display_name": "Python 3"
    },
    "language_info": {
      "name": "python"
    }
  },
  "cells": [
    {
      "cell_type": "code",
      "execution_count": null,
      "metadata": {
        "id": "XBfngV00gVkA"
      },
      "outputs": [],
      "source": [
        "import cv2"
      ]
    },
    {
      "cell_type": "code",
      "source": [
        "image = cv2.imread('/content/bird.jpg')\n",
        "grey_filter = cv2.cvtColor(image, cv2.COLOR_BGR2GRAY)\n",
        "invert = cv2.bitwise_not(grey_filter)\n",
        "blur = cv2.GaussianBlur(invert, (41,41),0)\n",
        "invertedblur = cv2.bitwise_not(blur)\n",
        "\n",
        "\n",
        "sketch_filter = cv2.divide(grey_filter, invertedblur, scale = 256.0)\n",
        "cv2.imwrite('Output2.jpg' , sketch_filter)"
      ],
      "metadata": {
        "colab": {
          "base_uri": "https://localhost:8080/"
        },
        "id": "uQXiaIeIit4K",
        "outputId": "2c73570f-781d-439d-abd0-91269cc16840"
      },
      "execution_count": null,
      "outputs": [
        {
          "output_type": "execute_result",
          "data": {
            "text/plain": [
              "True"
            ]
          },
          "metadata": {},
          "execution_count": 5
        }
      ]
    }
  ]
}